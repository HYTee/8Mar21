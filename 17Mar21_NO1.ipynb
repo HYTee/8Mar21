{
 "cells": [
  {
   "cell_type": "code",
   "execution_count": 32,
   "metadata": {},
   "outputs": [
    {
     "name": "stdout",
     "output_type": "stream",
     "text": [
      "[4, 6, 8, 9]\n",
      "4\n",
      "[4, 6, 8, 9, 11]\n",
      "[4, 6, 8, 9, 11, 13, 17, 20]\n",
      "[20, 17, 13, 11, 9, 8, 6, 4]\n",
      "[20, 17, 13, 11, 9, 8, 6, 4, 'Hss']\n"
     ]
    }
   ],
   "source": [
    "#1)create list\n",
    "L = [4,6,8,9]\n",
    "print (L) \n",
    "#2)length of L\n",
    "print(len(L)) \n",
    "#3)add 11 to list\n",
    "L.append(11) \n",
    "print (L)\n",
    "#4)concatenate list to list\n",
    "J = [13,17,20]\n",
    "L = L + J\n",
    "print (L)\n",
    "#5) Descending order\n",
    "L.sort(reverse=True)\n",
    "print(L)\n",
    "#6)Can add non interger to list?\n",
    "A_str = 'Hss'\n",
    "L += [ A_str ]\n",
    "print(L) #YES"
   ]
  },
  {
   "cell_type": "code",
   "execution_count": null,
   "metadata": {},
   "outputs": [],
   "source": []
  },
  {
   "cell_type": "code",
   "execution_count": null,
   "metadata": {},
   "outputs": [],
   "source": []
  }
 ],
 "metadata": {
  "kernelspec": {
   "display_name": "Python 3",
   "language": "python",
   "name": "python3"
  },
  "language_info": {
   "codemirror_mode": {
    "name": "ipython",
    "version": 3
   },
   "file_extension": ".py",
   "mimetype": "text/x-python",
   "name": "python",
   "nbconvert_exporter": "python",
   "pygments_lexer": "ipython3",
   "version": "3.8.8"
  }
 },
 "nbformat": 4,
 "nbformat_minor": 4
}
