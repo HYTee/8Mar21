{
 "cells": [
  {
   "cell_type": "code",
   "execution_count": 27,
   "metadata": {},
   "outputs": [
    {
     "name": "stdout",
     "output_type": "stream",
     "text": [
      "1\n",
      "2\n",
      "3\n",
      "4\n",
      "5\n",
      "1 2 3 4 5\n",
      "1 2 3 4 5\n",
      "[1, 2, 3, 4, 5]\n",
      "3\n",
      "6\n",
      "9\n",
      "12\n",
      "15\n",
      "18\n",
      "21\n",
      "24\n",
      "27\n",
      "30\n",
      "[3, 6, 9, 12, 15, 18, 21, 24, 27, 30]\n",
      "15\n",
      "['Ka-ku', 'Na-ku', 'Sa-ku']\n"
     ]
    }
   ],
   "source": [
    "#1 print 1 to 5 for N in [1,2,3,4,5] print(N)\n",
    "L = [1,2,3,4,5]\n",
    "for i in range(len(L)):\n",
    "    print(L[i])\n",
    "    \n",
    "#2 print in one line for N in [1,2,3,4,5] print(N, end=' ')\n",
    "X = \"\"\n",
    "for i in range(len(L)):\n",
    "    if X == \"\" :\n",
    "        X = L[i]\n",
    "    elif X != \"\":\n",
    "        X = \"{}\".format(X) + \" {}\".format( L[i])\n",
    "print (X)\n",
    "\n",
    "#3 use range to print 1 to 5 in one line N in range(1,6) print(N, end=' ')\n",
    "X = \"\"\n",
    "for i in range(1,6,1):\n",
    "    if X == \"\" :\n",
    "        X = i\n",
    "    elif X != \"\":\n",
    "        X = \"{}\".format(X) + \" {}\".format( i)\n",
    "        \n",
    "print (X)   \n",
    "\n",
    "#4 Set a list with range 1 to 5 list(range(1,6))\n",
    "L = []\n",
    "for i in range(1,6,1):\n",
    "    L.append(i)\n",
    "print (L)\n",
    "\n",
    "#5 for loop multiples of 3 and N is not <= 30\n",
    "L = []\n",
    "for i in range(3,31,3):\n",
    "    L.append(i)\n",
    "    print (i)\n",
    "print (L)\n",
    "\n",
    "#6 sum of 1 to 5 \n",
    "total = 0\n",
    "for N in range(1,6):\n",
    "    total+=N\n",
    "print(total)\n",
    "\n",
    "#7 \n",
    "places = [\"ka ku\",\"na ku\",\"sa ku\"]\n",
    "new_places = []\n",
    "for place in places:\n",
    "    new_places.append(place.capitalize().replace(\" \",\"-\"))\n",
    "print(new_places)\n"
   ]
  },
  {
   "cell_type": "code",
   "execution_count": null,
   "metadata": {},
   "outputs": [],
   "source": []
  }
 ],
 "metadata": {
  "kernelspec": {
   "display_name": "Python 3",
   "language": "python",
   "name": "python3"
  },
  "language_info": {
   "codemirror_mode": {
    "name": "ipython",
    "version": 3
   },
   "file_extension": ".py",
   "mimetype": "text/x-python",
   "name": "python",
   "nbconvert_exporter": "python",
   "pygments_lexer": "ipython3",
   "version": "3.8.8"
  }
 },
 "nbformat": 4,
 "nbformat_minor": 4
}
