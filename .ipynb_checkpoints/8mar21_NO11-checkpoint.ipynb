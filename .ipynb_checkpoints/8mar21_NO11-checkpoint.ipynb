{
 "cells": [
  {
   "cell_type": "code",
   "execution_count": 14,
   "metadata": {},
   "outputs": [
    {
     "name": "stdout",
     "output_type": "stream",
     "text": [
      "Top1\n",
      "7\n",
      "TopTopTopTop\n",
      "Sebastian Foo\n",
      "False\n",
      "True\n"
     ]
    }
   ],
   "source": [
    "#String manipulation\n",
    "print (\"Top\" + \"1\") # + used to combine string\n",
    "x = 1\n",
    "print(len(\"Udacity\"))\n",
    "print(\"Top\" * 4) # * used to repeat string\n",
    "print(\"Sebastian Foo\".title())\n",
    "full_name = \"Sebastian Foo\"\n",
    "print(full_name.islower())\n",
    "full_name = \"sebastian foo\"\n",
    "print(full_name.islower())# islower() being used to check lower capital letter"
   ]
  },
  {
   "cell_type": "code",
   "execution_count": 18,
   "metadata": {},
   "outputs": [
    {
     "name": "stdout",
     "output_type": "stream",
     "text": [
      "4\n",
      "TEXT\n",
      "Text\n",
      "t\n"
     ]
    }
   ],
   "source": [
    "a = \"text\"\n",
    "print(len(a))\n",
    "print(a.upper())\n",
    "print(a.capitalize())\n",
    "print(a[0]) #indexing out the first character"
   ]
  },
  {
   "cell_type": "code",
   "execution_count": 20,
   "metadata": {},
   "outputs": [
    {
     "name": "stdout",
     "output_type": "stream",
     "text": [
      "abc\n",
      "None\n",
      "<class 'NoneType'>\n"
     ]
    }
   ],
   "source": [
    "#type NONE\n",
    "value = print(\"abc\")\n",
    "print (value)\n",
    "print(type(value))"
   ]
  },
  {
   "cell_type": "code",
   "execution_count": null,
   "metadata": {},
   "outputs": [],
   "source": []
  }
 ],
 "metadata": {
  "kernelspec": {
   "display_name": "Python 3",
   "language": "python",
   "name": "python3"
  },
  "language_info": {
   "codemirror_mode": {
    "name": "ipython",
    "version": 3
   },
   "file_extension": ".py",
   "mimetype": "text/x-python",
   "name": "python",
   "nbconvert_exporter": "python",
   "pygments_lexer": "ipython3",
   "version": "3.8.8"
  }
 },
 "nbformat": 4,
 "nbformat_minor": 4
}
