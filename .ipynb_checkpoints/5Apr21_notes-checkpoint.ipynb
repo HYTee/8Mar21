{
 "cells": [
  {
   "cell_type": "code",
   "execution_count": 11,
   "metadata": {},
   "outputs": [
    {
     "name": "stdout",
     "output_type": "stream",
     "text": [
      "[2, 4, 6, 8, 10, 12, 14, 16, 18, 20, 22, 24, 26, 28, 30, 32, 34, 36, 38, 40, 42, 44, 46, 48, 50, 52, 54, 56, 58, 60, 62, 64, 66, 68, 70, 72, 74, 76, 78, 80, 82, 84, 86, 88, 90, 92, 94, 96, 98, 100]\n",
      "(0, 0)(0, 1)(1, 0)(1, 1)['Kimu', 'Li', 'Kim', 'Al']\n"
     ]
    }
   ],
   "source": [
    "#1 modula % == 0\n",
    "L = []\n",
    "[L.append(x) for x in range(2,102,2)]\n",
    "print (L)\n",
    "#2 Done\n",
    "#3 \n",
    "L = [(0,0),(0,1),(1,0),(1,1)]\n",
    "[print(x,end='') for x in L]\n",
    "#4 x **2\n",
    "#5\n",
    "scores = {\"Ta\":20,\"Kimu\":60,\"Li\":89,\"Kim\":78,\"Al\":73}\n",
    "passed  = [name for name,score in scores.items() if score >=60]\n",
    "print(passed)"
   ]
  },
  {
   "cell_type": "code",
   "execution_count": 20,
   "metadata": {},
   "outputs": [
    {
     "name": "stdout",
     "output_type": "stream",
     "text": [
      "[4, 8, 12, 16, 20, 24, 28, 32, 36, 40]\n",
      "[1, 2, 3, 4, 5, 6, 7, 8, 9, 10, 11, 12, 13, 14, 15, 16, 17, 18, 19, 20]\n"
     ]
    }
   ],
   "source": [
    "#1\n",
    "L = []\n",
    "[ L.append(x) for x in range(4,44,4)]\n",
    "print (L)\n",
    "#2\n",
    "M = []\n",
    "\n",
    "for y in range(1,11):\n",
    "    M.append(y)\n",
    "    if y ==10 :\n",
    "        break\n",
    "for x in range(11,21):\n",
    "    M.append(x)\n",
    "print(M)"
   ]
  },
  {
   "cell_type": "code",
   "execution_count": null,
   "metadata": {},
   "outputs": [],
   "source": []
  },
  {
   "cell_type": "code",
   "execution_count": null,
   "metadata": {},
   "outputs": [],
   "source": []
  }
 ],
 "metadata": {
  "kernelspec": {
   "display_name": "Python 3",
   "language": "python",
   "name": "python3"
  },
  "language_info": {
   "codemirror_mode": {
    "name": "ipython",
    "version": 3
   },
   "file_extension": ".py",
   "mimetype": "text/x-python",
   "name": "python",
   "nbconvert_exporter": "python",
   "pygments_lexer": "ipython3",
   "version": "3.8.8"
  }
 },
 "nbformat": 4,
 "nbformat_minor": 4
}
