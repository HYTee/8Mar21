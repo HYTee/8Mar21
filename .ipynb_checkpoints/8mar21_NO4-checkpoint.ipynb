{
 "cells": [
  {
   "cell_type": "code",
   "execution_count": 4,
   "metadata": {},
   "outputs": [
    {
     "name": "stdout",
     "output_type": "stream",
     "text": [
      "4\n",
      "20\n",
      "100000\n",
      "100005\n"
     ]
    }
   ],
   "source": [
    "a = 2\n",
    "a += 2\n",
    "print (a)\n",
    "b=5\n",
    "a*=b\n",
    "print (a)\n",
    "c =10\n",
    "c**=b\n",
    "print (c)\n",
    "print (c^b)"
   ]
  },
  {
   "cell_type": "code",
   "execution_count": null,
   "metadata": {},
   "outputs": [],
   "source": []
  }
 ],
 "metadata": {
  "kernelspec": {
   "display_name": "Python 3",
   "language": "python",
   "name": "python3"
  },
  "language_info": {
   "codemirror_mode": {
    "name": "ipython",
    "version": 3
   },
   "file_extension": ".py",
   "mimetype": "text/x-python",
   "name": "python",
   "nbconvert_exporter": "python",
   "pygments_lexer": "ipython3",
   "version": "3.8.8"
  }
 },
 "nbformat": 4,
 "nbformat_minor": 4
}
