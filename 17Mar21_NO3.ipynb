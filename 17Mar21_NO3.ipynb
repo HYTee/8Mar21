{
 "cells": [
  {
   "cell_type": "code",
   "execution_count": 13,
   "metadata": {},
   "outputs": [
    {
     "name": "stdout",
     "output_type": "stream",
     "text": [
      "(4, 9, 10)\n",
      "3\n",
      "4\n",
      "(4, 9, 10, 12)\n",
      "<class 'tuple'>\n"
     ]
    }
   ],
   "source": [
    "#Tuples\n",
    "#1 tuple, t with elements such as 4,9,10\n",
    "t = (4,9,10)\n",
    "print (t)\n",
    "#2 length of t\n",
    "print(len(t))\n",
    "#3 first element\n",
    "print(t[0])\n",
    "#4 t(1) to 5 , can or not?\n",
    "#t[1] = 5\n",
    "#print(t) #answer = NO\n",
    "#5 add element to tuple\n",
    "t2 = (12,)\n",
    "t += t2\n",
    "print(t)\n",
    "#6 type of tuple\n",
    "print (type(t))"
   ]
  },
  {
   "cell_type": "code",
   "execution_count": 32,
   "metadata": {},
   "outputs": [
    {
     "name": "stdout",
     "output_type": "stream",
     "text": [
      "{1, 2, 5, 8, 9}\n",
      "{1, 2, 3, 6, 10}\n",
      "{1, 2, 3, 5, 6, 8, 9, 10}\n",
      "{1, 2, 3, 5, 6, 8, 9, 10}\n",
      "{1, 2}\n",
      "{1, 2}\n",
      "{3, 5, 6, 8, 9, 10}\n"
     ]
    }
   ],
   "source": [
    "# SET\n",
    "#1\n",
    "A = [1,1,2,5,5,5,8,8,9]\n",
    "B = [1,2,2,3,3,3,6,10]\n",
    "#2 create sets\n",
    "A_SET = set(A)\n",
    "B_SET = set(B)\n",
    "print(A_SET)\n",
    "print(B_SET)\n",
    "#3 find unions\n",
    "print(A_SET|B_SET)\n",
    "print(A_SET.union(B_SET))\n",
    "#4 find intersects\n",
    "print(A_SET.intersection(B_SET))\n",
    "print(A_SET & B_SET)\n",
    "#5 different in list A and B\n",
    "print(A_SET.difference(B_SET) | B_SET.difference(A_SET) )"
   ]
  },
  {
   "cell_type": "code",
   "execution_count": 10,
   "metadata": {},
   "outputs": [
    {
     "name": "stdout",
     "output_type": "stream",
     "text": [
      "{'one': 1, 'four': 4, 'two': 2, 'three': 3, 'six': 6, 'five': 5, 'eight': 8, 'seven': 7, 'ten': 10, 'nine': 9}\n",
      "<class 'dict'>\n",
      "10\n",
      "4\n",
      "10\n",
      "False\n",
      "None\n"
     ]
    },
    {
     "ename": "AttributeError",
     "evalue": "'dict' object has no attribute 'sorted'",
     "output_type": "error",
     "traceback": [
      "\u001b[1;31m---------------------------------------------------------------------------\u001b[0m",
      "\u001b[1;31mAttributeError\u001b[0m                            Traceback (most recent call last)",
      "\u001b[1;32m<ipython-input-10-7c2bc1d95fa0>\u001b[0m in \u001b[0;36m<module>\u001b[1;34m\u001b[0m\n\u001b[0;32m     17\u001b[0m \u001b[0mprint\u001b[0m\u001b[1;33m(\u001b[0m\u001b[0mnumbers\u001b[0m\u001b[1;33m.\u001b[0m\u001b[0mget\u001b[0m\u001b[1;33m(\u001b[0m\u001b[1;34m\"eleven\"\u001b[0m\u001b[1;33m)\u001b[0m\u001b[1;33m)\u001b[0m\u001b[1;33m\u001b[0m\u001b[1;33m\u001b[0m\u001b[0m\n\u001b[0;32m     18\u001b[0m \u001b[1;31m#5 get keys to list A, get values to list B\u001b[0m\u001b[1;33m\u001b[0m\u001b[1;33m\u001b[0m\u001b[1;33m\u001b[0m\u001b[0m\n\u001b[1;32m---> 19\u001b[1;33m \u001b[0mA\u001b[0m \u001b[1;33m=\u001b[0m \u001b[0mnumbers\u001b[0m\u001b[1;33m.\u001b[0m\u001b[0msorted\u001b[0m\u001b[1;33m(\u001b[0m\u001b[0mnumbers\u001b[0m\u001b[1;33m.\u001b[0m\u001b[0mkeys\u001b[0m\u001b[1;33m(\u001b[0m\u001b[1;33m)\u001b[0m\u001b[1;33m)\u001b[0m\u001b[1;33m\u001b[0m\u001b[1;33m\u001b[0m\u001b[0m\n\u001b[0m",
      "\u001b[1;31mAttributeError\u001b[0m: 'dict' object has no attribute 'sorted'"
     ]
    }
   ],
   "source": [
    "#Dictionary\n",
    "#1 dictionary number\n",
    "numbers = {\n",
    "    \"one\":1,\"four\":4,\"two\":2,\"three\":3,\"six\":6,\n",
    "    \"five\":5,\"eight\":8,\"seven\":7,\"ten\":10,\"nine\":9\n",
    "}\n",
    "print(numbers)\n",
    "#2 can get second key of numbers, answer : no, cannot get, dictionary no order\n",
    "print (type(numbers))\n",
    "print (len(numbers))\n",
    "#print (numbers[1]) answer : no, cannot get, dictionary no order\n",
    "print(numbers[\"four\"])\n",
    "#3 find number of unique keys\n",
    "print (len(numbers)) #auto remove duplicates\n",
    "#4 is \"eleven\" a key of numbers\n",
    "print(\"eleven\" in numbers)\n",
    "print(numbers.get(\"eleven\"))\n",
    "#5 get keys to list A, get values to list B\n",
    "A = numbers.sorted(numbers.keys())\n"
   ]
  },
  {
   "cell_type": "code",
   "execution_count": 63,
   "metadata": {},
   "outputs": [
    {
     "name": "stdout",
     "output_type": "stream",
     "text": [
      "Please enter a number: 34\n",
      "34\n"
     ]
    }
   ],
   "source": [
    "#input box\n",
    "x = input(\"Please enter a number: \")\n",
    "print (x)"
   ]
  },
  {
   "cell_type": "code",
   "execution_count": 9,
   "metadata": {},
   "outputs": [
    {
     "name": "stdout",
     "output_type": "stream",
     "text": [
      "Tax in Japan is 8%.\n",
      "Tax in Malaysia is 6%.\n",
      "Tax in UK is 14%.\n",
      "Tax in EUROPE is 20%.\n",
      "Please enter your residential country  (J,M,U,E) : J\n",
      "Please enter the price in USD : 56\n",
      "Price in Japan, 60.48\n",
      "Price in Malaysia, 59.36\n",
      "Price in UK, 63.84\n",
      "Price in EUROPE, 67.2\n",
      "The smallest amount is : 59.36 USD\n",
      "You should pay 60.48 USD\n"
     ]
    }
   ],
   "source": [
    "#1 Choose right amount to purchase by using input and if...else\n",
    "print( \"Tax in Japan is 8%.\")\n",
    "print( \"Tax in Malaysia is 6%.\")\n",
    "print( \"Tax in UK is 14%.\")\n",
    "print( \"Tax in EUROPE is 20%.\")\n",
    "y = input(\"Please enter your residential country  (J,M,U,E) : \")\n",
    "x = input(\"Please enter the price in USD : \")\n",
    "x = int(x)\n",
    "J = round(x*1.08,2)\n",
    "print( \"Price in Japan, {}\".format(J))\n",
    "M =  round(x*1.06,2)\n",
    "print( \"Price in Malaysia, {}\".format(M))\n",
    "U = round(x*1.14,2)\n",
    "print( \"Price in UK, {}\".format(U))\n",
    "E = round(x*1.20,2)\n",
    "print( \"Price in EUROPE, {}\".format(E))\n",
    "print(\"The smallest amount is : {} USD\".format(min(J,M,U,E)))\n",
    "\n",
    "if y=='J':\n",
    "    answer = J\n",
    "elif y =='M':\n",
    "    answer = M\n",
    "elif y =='U':\n",
    "    answer = U\n",
    "elif y =='E':\n",
    "    answer = E\n",
    "else:\n",
    "    answer = \"NONE\"\n",
    "\n",
    "if answer == \"NONE\":\n",
    "    print(\"Invalid information!\")\n",
    "else:\n",
    "    print( \"You should pay {} USD\".format(answer))\n",
    "\n",
    "#use if else choose country...and return price"
   ]
  },
  {
   "cell_type": "code",
   "execution_count": null,
   "metadata": {},
   "outputs": [],
   "source": []
  }
 ],
 "metadata": {
  "kernelspec": {
   "display_name": "Python 3",
   "language": "python",
   "name": "python3"
  },
  "language_info": {
   "codemirror_mode": {
    "name": "ipython",
    "version": 3
   },
   "file_extension": ".py",
   "mimetype": "text/x-python",
   "name": "python",
   "nbconvert_exporter": "python",
   "pygments_lexer": "ipython3",
   "version": "3.8.8"
  }
 },
 "nbformat": 4,
 "nbformat_minor": 4
}
