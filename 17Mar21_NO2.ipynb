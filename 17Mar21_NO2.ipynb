{
 "cells": [
  {
   "cell_type": "code",
   "execution_count": 40,
   "metadata": {},
   "outputs": [
    {
     "name": "stdout",
     "output_type": "stream",
     "text": [
      "4\n",
      "9\n",
      "11\n",
      "11\n",
      "[4, 6, 8]\n",
      "[9, 11]\n",
      "[4, 8, 11]\n",
      "[11, 8, 4]\n",
      "[50, 6, 8, 9, 11]\n",
      "[50, 22, 33, 44, 9, 11]\n",
      "[9, 11, 22, 33, 44, 50]\n"
     ]
    }
   ],
   "source": [
    "#1 set list and get first element\n",
    "L = [4,6,8,9,11]\n",
    "print(L[0])\n",
    "#2 forth element\n",
    "print(L[3])\n",
    "#3 last element\n",
    "print(L[len(L)-1])\n",
    "print(L[-1])\n",
    "#4 first three element\n",
    "print(L[:3])\n",
    "#5 last two\n",
    "print(L[-2:])\n",
    "#6 every two element in ascending order\n",
    "print(L[0:len(L):2])\n",
    "#7 every two element in descending order\n",
    "print(L[len(L)::-2])\n",
    "#8 replace L[0]=50\n",
    "L[0] = 50\n",
    "print (L)\n",
    "#9  2th to 4th  = 22,33,44\n",
    "L[1:3:1] = [22,33,44]\n",
    "print (L)\n",
    "#10 sort ascending order\n",
    "L.sort(reverse=False)\n",
    "print(L)"
   ]
  },
  {
   "cell_type": "code",
   "execution_count": null,
   "metadata": {},
   "outputs": [],
   "source": []
  },
  {
   "cell_type": "code",
   "execution_count": null,
   "metadata": {},
   "outputs": [],
   "source": []
  }
 ],
 "metadata": {
  "kernelspec": {
   "display_name": "Python 3",
   "language": "python",
   "name": "python3"
  },
  "language_info": {
   "codemirror_mode": {
    "name": "ipython",
    "version": 3
   },
   "file_extension": ".py",
   "mimetype": "text/x-python",
   "name": "python",
   "nbconvert_exporter": "python",
   "pygments_lexer": "ipython3",
   "version": "3.8.8"
  }
 },
 "nbformat": 4,
 "nbformat_minor": 4
}
